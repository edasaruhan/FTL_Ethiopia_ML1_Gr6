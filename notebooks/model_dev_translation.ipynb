{
 "cells": [
  {
   "cell_type": "code",
   "execution_count": 23,
   "id": "df1c8b90",
   "metadata": {},
   "outputs": [
    {
     "name": "stdout",
     "output_type": "stream",
     "text": [
      "  Domain                                             Source  \\\n",
      "0   news  An 11-year-old student opens fire at his schoo...   \n",
      "1   news  Rock musician Ozzy Osbourne announces that he ...   \n",
      "2   news  After a 2,000-point drop on Monday, the DJIA f...   \n",
      "3   news  Italy confirms that an Italian man has contrac...   \n",
      "4   news  The EF3 tornado that went through Davidson, Wi...   \n",
      "\n",
      "                               Reference Translation  \\\n",
      "0  አንድ የ11 ዓመት ተማሪ Torreón፣ Coahuila፣ ሜክሲኮ በሚገኝ ት...   \n",
      "1         የሮክ ሙዚቀኛ ኦዚ ኦስቦርን በፓርክንሰን በሽታ መያዙን አስታዉቋል።   \n",
      "2  ሰኞ ቀን ላይ 2,000 ነጥብ ከጣለ በኋላ፣ ከNYSE የመክፈቻ ደወል በፊ...   \n",
      "3  አንድ ጣሊያናዊ የሴት ጓደኛዉን ዉሃን ዉስጥ ከጎበኛት በኋላ በቫይረሱ መያ...   \n",
      "4  በዴቪድሰን፣ ዊልሰን፣ እና ስሚዝ አዉራጃዎች በኩል ያለፈው EF3 ሀይለኛ ...   \n",
      "\n",
      "                                    Google Translate  \\\n",
      "0  አንድ የ 11 ዓመት ልጅ በሜክሲኮ ፣ ቶዋሪ ፣ ኮዋይላ ፣ ሜክሲኮ ውስጥ ...   \n",
      "1  የሮክ ሙዚቃ ባለሙያው ኦዚ ኦስቦርን በፓርኪንሰን በሽታ መያዙን አስታውቋል ፡፡   \n",
      "2  ሰኞ ከ 2,000 ነጥብ ከወደቀ በኋላ የዲጄሪያ የወደፊት ዕጣ ፈንታ ከ N...   \n",
      "3  በቻን ውስጥ የሴት ጓደኛዋን ከጎበኘ በኋላ አንድ ጣሊያናዊ ሰው ቫይረሱ እ...   \n",
      "4  በዳዊሰንሰን ፣ ዊልሰን እና ስሚዝ ክልሎች በኩል ያላለፈው የ “EF3” አ...   \n",
      "\n",
      "                                    Yandex Translate  \n",
      "0  አሁን 11 አመት ተማሪ የሚሰጡዋቸውን ቅድሚያ የሚሰጡዋቸውን የእርሱ ትምህ...  \n",
      "1  ግምገማ ይታያል አጋዥነት Osbourne announces እርሱ አሁን አሁን...  \n",
      "2  በኋላ 2,000-ይዘት ቅድሚያ በግራ ሰኞ ወደ DJIA futures ረብ 1...  \n",
      "3  ጣሊያን confirms ዘንድ አንድ ጣሊያንኛ ሰው አለው contracted ...  \n",
      "4  ወደ EF3 ቅድሚያ የሚሰጡዋቸውን በኩል አዳዲስ ግምገማዎች, አዲስ እና አ...  \n",
      "  Domain                                    Source Sentence  \\\n",
      "0   news                        በጂግጅጋ ከተማ ህዝባዊ ጉባኤ ዛሬ ይካሄዳል   \n",
      "1   news                                 ስለፌዴራላዊ ሥርዓቱ ልዕልና!   \n",
      "2   news  ህዝቡ “የሥልጣን ሊዝ አዋጅ” ሊያወጣ ነው! ሥልጣን በሊዝ ሊሆን ነው - ...   \n",
      "3   news  በሰማያዊ ፓርቲ ምልክት መወዳደር አለብኝ የሚለው ፓርቲ ከምርጫ ቦርድ ጋር...   \n",
      "4   news             የኦሮሞና የአማራ ሕዝቦችን ያገናኘው መድረክ ለምን አስፈለገ?   \n",
      "\n",
      "                               Reference Translation  \\\n",
      "0  The people’s symposium will be held in Jijiga ...   \n",
      "1                 For the sovereignty of federalism!   \n",
      "2  The people are going to make \"Authority for re...   \n",
      "3  The party that uses the same banner as the Sem...   \n",
      "4  Why is a platform to congregate  the Oromo and...   \n",
      "\n",
      "                                    Google Translate  \\\n",
      "0  A public meeting will be held in the city of G...   \n",
      "1       About the sovereignty of the federal system!   \n",
      "2  The people are about to issue a &quot;power le...   \n",
      "3  The party that I had to contest with the blue ...   \n",
      "4            Why the Oromo and Amhara Peoples Forum?   \n",
      "\n",
      "                                    Yandex Translate  \n",
      "0          Today rejigged the public conference area  \n",
      "1                   The Confederate system of Leela!  \n",
      "2  The “PS proclamation authority” of the young! ...  \n",
      "3  The Heavenly Signs part I election to board \" ...  \n",
      "4  The Oromo people by the Amhara agencies unwant...  \n"
     ]
    }
   ],
   "source": [
    "import pandas as pd\n",
    "\n",
    "# Load TSV files\n",
    "enam = pd.read_csv('../dataset/enam.tsv', sep='\\t' , on_bad_lines='skip')\n",
    "amen = pd.read_csv('../dataset/amen.tsv', sep='\\t', on_bad_lines='skip')\n",
    "\n",
    "print(enam.head())\n",
    "print(amen.head())\n",
    "\n"
   ]
  },
  {
   "cell_type": "markdown",
   "id": "17e18434",
   "metadata": {},
   "source": [
    "## Preprocess the Data\n"
   ]
  },
  {
   "cell_type": "markdown",
   "id": "bbf9bffe",
   "metadata": {},
   "source": [
    "### Clean the Text"
   ]
  },
  {
   "cell_type": "code",
   "execution_count": 24,
   "id": "b2a80d2c",
   "metadata": {},
   "outputs": [],
   "source": [
    "import re\n",
    "\n",
    "def clean_text(text):\n",
    "    if pd.isnull(text):\n",
    "        return \"\"\n",
    "    text = re.sub(r'<.*?>', '', text)  # Remove HTML\n",
    "    text = re.sub(r'[^\\w\\s፡።፣፤፥፦፧፨’‘“”\".,!?\\'\\-]', '', text)  # Keep only meaningful characters\n",
    "    text = re.sub(r'\\s+', ' ', text)  # Normalize whitespace\n",
    "    return text.strip()\n",
    "\n",
    "# Clean enam.tsv (English source, Amharic targets)\n",
    "enam['Source'] = enam['Source'].apply(clean_text)\n",
    "enam['Reference Translation'] = enam['Reference Translation'].apply(clean_text)\n",
    "enam['Google Translate'] = enam['Google Translate'].apply(clean_text)\n",
    "enam['Yandex Translate'] = enam['Yandex Translate'].apply(clean_text)\n",
    "\n",
    "# Clean amen.tsv (Amharic source, English targets)\n",
    "amen['Source Sentence'] = amen['Source Sentence'].apply(clean_text)\n",
    "amen['Reference Translation'] = amen['Reference Translation'].apply(clean_text)\n",
    "amen['Google Translate'] = amen['Google Translate'].apply(clean_text)\n",
    "amen['Yandex Translate'] = amen['Yandex Translate'].apply(clean_text)\n"
   ]
  },
  {
   "cell_type": "markdown",
   "id": "f6547293",
   "metadata": {},
   "source": [
    "### Normalize\n"
   ]
  },
  {
   "cell_type": "code",
   "execution_count": 25,
   "id": "6e84f942",
   "metadata": {},
   "outputs": [],
   "source": [
    "import unicodedata\n",
    "\n",
    "def normalize_amharic(text):\n",
    "    return unicodedata.normalize('NFKC', text)\n",
    "\n",
    "def lowercase_english(text):\n",
    "    return text.lower()\n",
    "\n",
    "# Normalize enam.tsv\n",
    "enam['Source'] = enam['Source'].apply(lowercase_english)\n",
    "for col in ['Reference Translation', 'Google Translate', 'Yandex Translate']:\n",
    "    enam[col] = enam[col].apply(normalize_amharic)\n",
    "\n",
    "# Normalize amen.tsv\n",
    "amen['Source Sentence'] = amen['Source Sentence'].apply(normalize_amharic)\n",
    "for col in ['Reference Translation', 'Google Translate', 'Yandex Translate']:\n",
    "    amen[col] = amen[col].apply(lowercase_english)\n"
   ]
  },
  {
   "cell_type": "markdown",
   "id": "1a24faeb",
   "metadata": {},
   "source": [
    "### Filter Sentence Pairs"
   ]
  },
  {
   "cell_type": "code",
   "execution_count": 26,
   "id": "ffeca996",
   "metadata": {},
   "outputs": [],
   "source": [
    "def valid_length(src, tgt, min_len=3, max_len=100):\n",
    "    return min_len <= len(src.split()) <= max_len and min_len <= len(tgt.split()) <= max_len\n",
    "\n",
    "# For enam.tsv: English (src) → Amharic (tgt)\n",
    "enam_filtered = enam[\n",
    "    enam.apply(lambda row: valid_length(row['Source'], row['Reference Translation']), axis=1)\n",
    "]\n",
    "\n",
    "# For amen.tsv: Amharic (src) → English (tgt)\n",
    "amen_filtered = amen[\n",
    "    amen.apply(lambda row: valid_length(row['Source Sentence'], row['Reference Translation']), axis=1)\n",
    "]\n"
   ]
  },
  {
   "cell_type": "markdown",
   "id": "f03f0392",
   "metadata": {},
   "source": [
    "## Save the Cleaned Dataset"
   ]
  },
  {
   "cell_type": "code",
   "execution_count": null,
   "id": "ab1708c5",
   "metadata": {},
   "outputs": [],
   "source": [
    "# Save cleaned English → Amharic\n",
    "enam_filtered[['Source', 'Reference Translation']].to_csv(\n",
    "    '../dataset/cleaned/enam_cleaned.tsv', sep='\\t', index=False, header=False\n",
    ")\n",
    "\n",
    "# Save cleaned Amharic → English\n",
    "amen_filtered[['Source Sentence', 'Reference Translation']].to_csv(\n",
    "    '../dataset/cleaned/amen_cleaned.tsv', sep='\\t', index=False, header=False\n",
    ")\n"
   ]
  }
 ],
 "metadata": {
  "kernelspec": {
   "display_name": "myenv",
   "language": "python",
   "name": "python3"
  },
  "language_info": {
   "codemirror_mode": {
    "name": "ipython",
    "version": 3
   },
   "file_extension": ".py",
   "mimetype": "text/x-python",
   "name": "python",
   "nbconvert_exporter": "python",
   "pygments_lexer": "ipython3",
   "version": "3.13.2"
  }
 },
 "nbformat": 4,
 "nbformat_minor": 5
}
