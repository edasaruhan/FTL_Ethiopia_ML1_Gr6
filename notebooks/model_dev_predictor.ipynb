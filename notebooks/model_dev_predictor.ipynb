{
 "cells": [
  {
   "cell_type": "code",
   "execution_count": 1,
   "id": "2719a870",
   "metadata": {},
   "outputs": [
    {
     "data": {
      "text/plain": [
       "['../models/predictor/feature_columns.pkl']"
      ]
     },
     "execution_count": 1,
     "metadata": {},
     "output_type": "execute_result"
    }
   ],
   "source": [
    "import pandas as pd\n",
    "import numpy as np\n",
    "from sklearn.model_selection import train_test_split\n",
    "from sklearn.preprocessing import StandardScaler\n",
    "from sklearn.ensemble import RandomForestClassifier\n",
    "import joblib\n",
    "\n",
    "# Load dataset\n",
    "df = pd.read_csv('../dataset/personalized_learning_dataset.csv')\n",
    "\n",
    "# Preprocessing\n",
    "feature_cols = ['Age', 'Engagement_Level', 'Learning_Style', 'Dropout_Likelihood', 'Quiz_Attempts']\n",
    "df = df[feature_cols + ['Final_Exam_Score']]\n",
    "df_encoded = pd.get_dummies(df, columns=['Engagement_Level', 'Learning_Style', 'Dropout_Likelihood'])\n",
    "\n",
    "def classify_level(score):\n",
    "    if score < 60:\n",
    "        return 'low'\n",
    "    elif score < 85:\n",
    "        return 'medium'\n",
    "    else:\n",
    "        return 'high'\n",
    "\n",
    "df_encoded['Level'] = df['Final_Exam_Score'].apply(classify_level)\n",
    "X = df_encoded.drop(columns=['Final_Exam_Score', 'Level'])\n",
    "y = df_encoded['Level']\n",
    "\n",
    "# Train model\n",
    "X_train, _, y_train, _ = train_test_split(X, y, test_size=0.2, random_state=42)\n",
    "scaler = StandardScaler()\n",
    "X_train_scaled = scaler.fit_transform(X_train)\n",
    "clf = RandomForestClassifier(random_state=42)\n",
    "clf.fit(X_train_scaled, y_train)\n",
    "\n",
    "# Save model and scaler\n",
    "joblib.dump(clf, '../models/predictor/predictor.pkl')\n",
    "joblib.dump(scaler, '../models/predictor/scaler.pkl')\n",
    "joblib.dump(X.columns.tolist(), '../models/predictor/feature_columns.pkl')\n"
   ]
  }
 ],
 "metadata": {
  "kernelspec": {
   "display_name": "myenv",
   "language": "python",
   "name": "python3"
  },
  "language_info": {
   "codemirror_mode": {
    "name": "ipython",
    "version": 3
   },
   "file_extension": ".py",
   "mimetype": "text/x-python",
   "name": "python",
   "nbconvert_exporter": "python",
   "pygments_lexer": "ipython3",
   "version": "3.13.2"
  }
 },
 "nbformat": 4,
 "nbformat_minor": 5
}
